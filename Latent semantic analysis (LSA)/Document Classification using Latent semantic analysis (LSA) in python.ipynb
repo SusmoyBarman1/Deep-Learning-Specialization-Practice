{
 "cells": [
  {
   "cell_type": "code",
   "execution_count": 10,
   "metadata": {},
   "outputs": [],
   "source": [
    "doc1 = \"Data Science Machine Learning. Algorithms Data Computers. Programming Java Data Structures\"\n",
    "doc2 = \"Money fun Family Kids home. Love food health games energy fun\"\n",
    "#doc3 = \"Programming Java Data Structures\"\n",
    "#doc4 = \"Love food health games energy fun\"\n",
    "#doc5 = \"Algorithms Data Computers\"\n",
    "\n",
    "# combine documents\n",
    "#doc_complete = [doc1, doc2, doc3, doc4, doc5]\n",
    "doc_complete = [doc1, doc2]"
   ]
  },
  {
   "cell_type": "code",
   "execution_count": 11,
   "metadata": {},
   "outputs": [
    {
     "data": {
      "text/plain": [
       "['Data Science Machine Learning. Algorithms Data Computers. Programming Java Data Structures',\n",
       " 'Money fun Family Kids home. Love food health games energy fun']"
      ]
     },
     "execution_count": 11,
     "metadata": {},
     "output_type": "execute_result"
    }
   ],
   "source": [
    "doc_complete"
   ]
  },
  {
   "cell_type": "code",
   "execution_count": 12,
   "metadata": {},
   "outputs": [],
   "source": [
    "from sklearn.feature_extraction.text import TfidfVectorizer\n",
    "vectorizer = TfidfVectorizer()"
   ]
  },
  {
   "cell_type": "code",
   "execution_count": 13,
   "metadata": {},
   "outputs": [],
   "source": [
    "X =vectorizer.fit_transform(doc_complete)"
   ]
  },
  {
   "cell_type": "code",
   "execution_count": 14,
   "metadata": {},
   "outputs": [
    {
     "name": "stdout",
     "output_type": "stream",
     "text": [
      "  (0, 18)\t0.242535625036333\n",
      "  (0, 10)\t0.242535625036333\n",
      "  (0, 16)\t0.242535625036333\n",
      "  (0, 1)\t0.242535625036333\n",
      "  (0, 0)\t0.242535625036333\n",
      "  (0, 12)\t0.242535625036333\n",
      "  (0, 14)\t0.242535625036333\n",
      "  (0, 17)\t0.242535625036333\n",
      "  (0, 2)\t0.7276068751089989\n",
      "  (1, 3)\t0.2773500981126146\n",
      "  (1, 7)\t0.2773500981126146\n",
      "  (1, 8)\t0.2773500981126146\n",
      "  (1, 5)\t0.2773500981126146\n",
      "  (1, 13)\t0.2773500981126146\n",
      "  (1, 9)\t0.2773500981126146\n",
      "  (1, 11)\t0.2773500981126146\n",
      "  (1, 4)\t0.2773500981126146\n",
      "  (1, 6)\t0.5547001962252291\n",
      "  (1, 15)\t0.2773500981126146\n"
     ]
    }
   ],
   "source": [
    "print(X)"
   ]
  },
  {
   "cell_type": "code",
   "execution_count": 15,
   "metadata": {},
   "outputs": [],
   "source": [
    "from sklearn.decomposition import TruncatedSVD\n",
    "lsa = TruncatedSVD(n_components=2,n_iter=100)"
   ]
  },
  {
   "cell_type": "code",
   "execution_count": 16,
   "metadata": {},
   "outputs": [
    {
     "data": {
      "text/plain": [
       "TruncatedSVD(algorithm='randomized', n_components=2, n_iter=100,\n",
       "             random_state=None, tol=0.0)"
      ]
     },
     "execution_count": 16,
     "metadata": {},
     "output_type": "execute_result"
    }
   ],
   "source": [
    "lsa.fit(X)"
   ]
  },
  {
   "cell_type": "code",
   "execution_count": 17,
   "metadata": {},
   "outputs": [],
   "source": [
    "terms = vectorizer.get_feature_names()"
   ]
  },
  {
   "cell_type": "code",
   "execution_count": 18,
   "metadata": {},
   "outputs": [
    {
     "name": "stdout",
     "output_type": "stream",
     "text": [
      "Concept 0:\n",
      "data\n",
      "algorithms\n",
      "java\n",
      "learning\n",
      "machine\n",
      "programming\n",
      "science\n",
      "structures\n",
      "computers\n",
      "energy\n",
      " \n",
      "Concept 1:\n",
      "fun\n",
      "energy\n",
      "family\n",
      "food\n",
      "games\n",
      "health\n",
      "home\n",
      "kids\n",
      "love\n",
      "money\n",
      " \n"
     ]
    }
   ],
   "source": [
    "for i,comp in enumerate(lsa.components_):\n",
    "    termsInComp = zip(terms,comp)\n",
    "    sortedterms = sorted(termsInComp, key=lambda x: x[1],reverse=True)[:10]\n",
    "    print(\"Concept %d:\" % i)\n",
    "    for term in sortedterms:\n",
    "        print(term[0])\n",
    "    print(\" \")"
   ]
  },
  {
   "cell_type": "code",
   "execution_count": null,
   "metadata": {},
   "outputs": [],
   "source": []
  }
 ],
 "metadata": {
  "kernelspec": {
   "display_name": "Python 3",
   "language": "python",
   "name": "python3"
  },
  "language_info": {
   "codemirror_mode": {
    "name": "ipython",
    "version": 3
   },
   "file_extension": ".py",
   "mimetype": "text/x-python",
   "name": "python",
   "nbconvert_exporter": "python",
   "pygments_lexer": "ipython3",
   "version": "3.6.9"
  }
 },
 "nbformat": 4,
 "nbformat_minor": 2
}
